{
 "cells": [
  {
   "cell_type": "markdown",
   "metadata": {},
   "source": [
    "# incom.py - A Toolbox for Calculating Linguistic Distances and Asymmetries between Related Languages"
   ]
  },
  {
   "cell_type": "markdown",
   "metadata": {},
   "source": [
    "## Visualizations"
   ]
  },
  {
   "cell_type": "markdown",
   "metadata": {},
   "source": [
    "This notebook shows how to generate visualizations based on pre-computed levenhstein distance and word adaptation surprisal."
   ]
  },
  {
   "cell_type": "markdown",
   "metadata": {},
   "source": [
    "---"
   ]
  },
  {
   "cell_type": "code",
   "execution_count": null,
   "metadata": {},
   "outputs": [],
   "source": [
    "import pandas as pd\n",
    "import numpy as np\n",
    "import matplotlib as mpl\n",
    "import matplotlib.pyplot as plt\n",
    "DPI = 150\n",
    "import seaborn as sns\n",
    "%matplotlib inline\n",
    "%run ../utils.py\n",
    "%pwd"
   ]
  },
  {
   "cell_type": "markdown",
   "metadata": {},
   "source": [
    "Read the **pre-comuted** data from an excel file"
   ]
  },
  {
   "cell_type": "code",
   "execution_count": null,
   "metadata": {},
   "outputs": [],
   "source": [
    "foreign, native = ('BG', 'RU')\n",
    "results = f'../outputs/results/{native}_{foreign}_120_results.xlsx'\n",
    "results_mod = f'../outputs/results/{native}_{foreign}_120_mod_results.xlsx'\n",
    "\n",
    "# Specify names of sheets in excel file\n",
    "sheets = [\n",
    "        f'{foreign}-{native}', \n",
    "        f'{foreign}-char-entropy', \n",
    "        f'{native}-char-entropy', \n",
    "        f'{foreign}-{native}-surprisals',\n",
    "        f'{foreign}-{native}-mod-surprisals',\n",
    "        f'{foreign}-{native}-probabilities',\n",
    "        f'{native}-{foreign}',\n",
    "        f'{native}-{foreign}-surprisals',\n",
    "        f'{native}-{foreign}-mod-surprisals',\n",
    "        f'{native}-{foreign}-probabilities',\n",
    "        'costs'\n",
    "    ]\n",
    "\n",
    "# Read data\n",
    "dfs = read_data(results, sheets, index_col=0)\n",
    "dfs_mod = read_data(results_mod, sheets, index_col=0)"
   ]
  },
  {
   "cell_type": "code",
   "execution_count": null,
   "metadata": {
    "outputExpanded": true
   },
   "outputs": [],
   "source": [
    "dfs['BG-RU'].head(2)  # inspect data"
   ]
  },
  {
   "cell_type": "code",
   "execution_count": null,
   "metadata": {},
   "outputs": [],
   "source": [
    "dfs['RU-BG'].head(2)  # inspect data"
   ]
  },
  {
   "cell_type": "markdown",
   "metadata": {},
   "source": [
    "Compute **summary statistics** of our data."
   ]
  },
  {
   "cell_type": "code",
   "execution_count": null,
   "metadata": {},
   "outputs": [],
   "source": [
    "dfs['BG-RU'].describe()"
   ]
  },
  {
   "cell_type": "code",
   "execution_count": null,
   "metadata": {},
   "outputs": [],
   "source": [
    "dfs['RU-BG'].describe()"
   ]
  },
  {
   "cell_type": "markdown",
   "metadata": {},
   "source": [
    "---"
   ]
  },
  {
   "cell_type": "markdown",
   "metadata": {},
   "source": [
    "## Basic Visualizations"
   ]
  },
  {
   "cell_type": "code",
   "execution_count": null,
   "metadata": {},
   "outputs": [],
   "source": [
    "data_BGRU = dfs['BG-RU']\n",
    "data_RUBG = dfs['RU-BG']\n",
    "mod_data_BGRU = dfs_mod['BG-RU']\n",
    "mod_data_RUBG = dfs_mod['RU-BG']"
   ]
  },
  {
   "cell_type": "code",
   "execution_count": null,
   "metadata": {},
   "outputs": [],
   "source": [
    "prefix = '../outputs/plots/ru_bg'"
   ]
  },
  {
   "cell_type": "markdown",
   "metadata": {},
   "source": [
    "Create histograms for **edit distances**."
   ]
  },
  {
   "cell_type": "code",
   "execution_count": null,
   "metadata": {},
   "outputs": [],
   "source": [
    "fig, axes = plt.subplots(1, 1, figsize=(6, 6))\n",
    "axes.hist(data_BGRU['normalized LD'], bins=15, color='red', alpha=.2, label='{:s} (foreign) to {:s} (native)'.format(foreign, native))\n",
    "axes.hist(data_RUBG['normalized LD'], bins=15, color='blue', alpha=.2, label='{:s} (foreign) to {:s} (native)'.format(native, foreign))\n",
    "fig.suptitle('Normalized Levenshtein distance')\n",
    "axes.grid()\n",
    "axes.set_xlabel(r\"Normalized LD\")\n",
    "axes.set_ylabel(r\"Number of word pairs\")\n",
    "axes.legend(bbox_to_anchor=(0., 1.02, 1., .102), loc=3, ncol=2, mode=\"expand\", borderaxespad=0.);\n",
    "plt.savefig(prefix + '/120_normalized_ld.pdf', dpi=DPI)  \n",
    "plt.savefig(prefix + '/120_normalized_ld.png', dpi=DPI); "
   ]
  },
  {
   "cell_type": "markdown",
   "metadata": {},
   "source": [
    "Create histograms for **word adaptation surprisal**"
   ]
  },
  {
   "cell_type": "code",
   "execution_count": null,
   "metadata": {},
   "outputs": [],
   "source": [
    "fig, axes = plt.subplots(1, 1, figsize=(8, 8))\n",
    "axes.hist(data_BGRU['normalized WAS'], bins=15, color='red', alpha=.2, label='{:s} (foreign) to {:s} (native)'.format(foreign, native))\n",
    "axes.hist(data_RUBG['normalized WAS'], bins=15, color='blue', alpha=.2, label='{:s} (foreign) to {:s} (native)'.format(native, foreign))\n",
    "fig.suptitle('Normalized word adaptation surprisal')\n",
    "axes.set_xlabel(\"Normalized WAS\")\n",
    "axes.set_ylabel(\"Number of word pairs\")\n",
    "axes.grid()\n",
    "axes.legend(bbox_to_anchor=(0., 1.02, 1., .102), loc=3, ncol=2, mode=\"expand\", borderaxespad=0.)\n",
    "plt.savefig(prefix + '/120_normalized_was.pdf', dpi=DPI)\n",
    "plt.savefig(prefix + '/120_normalized_was.png', dpi=DPI);"
   ]
  },
  {
   "cell_type": "markdown",
   "metadata": {},
   "source": [
    "Create histogram for **word adaptation surprisal** with **unmodified** and **modified surprisals**."
   ]
  },
  {
   "cell_type": "code",
   "execution_count": null,
   "metadata": {},
   "outputs": [],
   "source": [
    "fig, axes = plt.subplots(1, 2, figsize=(12, 6), sharey=True)\n",
    "\n",
    "axes[0].hist(data_BGRU['normalized WAS'], bins=15, color='red', alpha=.2, label='{:s} (foreign) to {:s} (native)'.format(foreign, native))\n",
    "axes[0].hist(data_RUBG['normalized WAS'], bins=15, color='blue', alpha=.2, label='{:s} (foreign) to {:s} (native)'.format(native, foreign))\n",
    "axes[0].grid()\n",
    "axes[0].legend()\n",
    "axes[0].set_title('unmodified')\n",
    "axes[0].set_xlabel('Normalized WAS')\n",
    "axes[0].set_ylabel('Number of word pairs')\n",
    "\n",
    "\n",
    "axes[1].hist(mod_data_BGRU['normalized WAS'], bins=15, color='red', alpha=.2, label='{:s} (foreign) to {:s} (native)'.format(foreign, native))\n",
    "axes[1].hist(mod_data_RUBG['normalized WAS'], bins=15, color='blue', alpha=.2, label='{:s} (foreign) to {:s} (native)'.format(native, foreign))\n",
    "axes[1].grid()\n",
    "axes[1].legend()\n",
    "axes[1].set_title('modified')\n",
    "axes[1].set_xlabel('Normalized WAS')\n",
    "\n",
    "# axes[1].legend(bbox_to_anchor=(0., 1.02, 1., .102), loc=3, ncol=2, mode=\"expand\", borderaxespad=0.)\n",
    "fig.suptitle('Normalized word adaptation surprisal');\n",
    "plt.savefig(prefix + '/120_normalized_modified_was.pdf', dpi=DPI)\n",
    "plt.savefig(prefix + '/120_normalized_modified_was.png', dpi=DPI);"
   ]
  },
  {
   "cell_type": "markdown",
   "metadata": {},
   "source": [
    "## Advanced Visualizations"
   ]
  },
  {
   "cell_type": "code",
   "execution_count": null,
   "metadata": {},
   "outputs": [],
   "source": [
    "fig, axes = plt.subplots(2, 2, figsize=(16, 12), sharex=True, sharey=True)\n",
    "sns.stripplot(x=\"alignment length\", y=\"normalized WAS\", palette=\"Set3\", data=data_BGRU, jitter=0.1, ax=axes[0][0])\n",
    "sns.boxplot(x=\"alignment length\", y=\"normalized WAS\", data=data_BGRU, palette=\"Set3\", ax=axes[1][0])\n",
    "axes[0][0].set_title('BG foreign RU native')\n",
    "sns.stripplot(x=\"alignment length\", y=\"normalized WAS\", palette=\"Set3\", data=data_RUBG, jitter=0.1, ax=axes[0][1])\n",
    "sns.boxplot(x=\"alignment length\", y=\"normalized WAS\", data=data_RUBG, palette=\"Set3\", ax=axes[1][1])\n",
    "axes[0][1].set_title('RU foreign BG native')\n",
    "plt.savefig(prefix + '/120_was_boxplots.png', dpi=DPI)\n",
    "plt.savefig(prefix + '/120_was_boxplots.pdf', dpi=DPI)"
   ]
  },
  {
   "cell_type": "code",
   "execution_count": null,
   "metadata": {
    "collapsed": false,
    "inputHidden": false,
    "outputHidden": false
   },
   "outputs": [],
   "source": [
    "fig, axes = plt.subplots(2, 2, figsize=(16, 12), sharex=True, sharey=True)\n",
    "sns.stripplot(x=\"alignment length\", y=\"normalized LD\", palette=\"Set3\", data=data_BGRU, jitter=0.1, ax=axes[0][0])\n",
    "sns.boxplot(x=\"alignment length\", y=\"normalized LD\", data=data_BGRU, palette=\"Set3\", ax=axes[1][0])\n",
    "axes[0][0].set_title('BG foreign RU native')\n",
    "sns.stripplot(x=\"alignment length\", y=\"normalized LD\", palette=\"Set3\", data=data_RUBG, jitter=0.1, ax=axes[0][1])\n",
    "sns.boxplot(x=\"alignment length\", y=\"normalized LD\", data=data_RUBG, palette=\"Set3\", ax=axes[1][1])\n",
    "axes[0][1].set_title('RU foreign BG native')\n",
    "plt.savefig(prefix + '/120_ld_boxplots.png', dpi=DPI)\n",
    "plt.savefig(prefix + '/120_ld_boxplots.pdf', dpi=DPI)"
   ]
  },
  {
   "cell_type": "code",
   "execution_count": null,
   "metadata": {},
   "outputs": [],
   "source": [
    "g = sns.jointplot(\"normalized LD\", \"normalized WAS\", data=data_BGRU, kind=\"reg\", color='red', xlim=(0.0, 0.6), ylim=(0.0, 1.8), space=0)\n",
    "plt.subplots_adjust(top=0.9)\n",
    "g.fig.suptitle('BG foreign RU native')\n",
    "plt.savefig(prefix + '/120_jointplot_BGRU.png', dpi=DPI)\n",
    "plt.savefig(prefix + '/120_jointplot_BGRU.pdf', dpi=DPI)"
   ]
  },
  {
   "cell_type": "code",
   "execution_count": null,
   "metadata": {},
   "outputs": [],
   "source": [
    "g = sns.jointplot(\"normalized LD\", \"normalized WAS\", data=data_RUBG, kind=\"reg\", color='blue', xlim=(0.0, 0.6), ylim=(0.0, 1.8), space=0)\n",
    "plt.subplots_adjust(top=0.9)\n",
    "g.fig.suptitle('RU foreign BG native')\n",
    "plt.savefig(prefix + '/120_jointplot_RUBG.png', dpi=DPI)\n",
    "plt.savefig(prefix + '/120_jointplot_RUBG.pdf', dpi=DPI)"
   ]
  },
  {
   "cell_type": "code",
   "execution_count": null,
   "metadata": {
    "collapsed": false,
    "inputHidden": false,
    "outputHidden": false
   },
   "outputs": [],
   "source": [
    "g = sns.jointplot(\"normalized LD\", \"intelligibility scores\", data=data_BGRU, kind=\"reg\", color='red', xlim=(0.0, 0.6), ylim=(0.0, 1.2), space=0)\n",
    "plt.subplots_adjust(top=0.9)\n",
    "g.fig.suptitle('BG foreign RU native')\n",
    "plt.savefig(prefix + '/120_jointplot_BGRU_nld_intell.png', dpi=DPI)\n",
    "plt.savefig(prefix + '/120_jointplot_BGRU_nld_intell.pdf', dpi=DPI)"
   ]
  },
  {
   "cell_type": "code",
   "execution_count": null,
   "metadata": {},
   "outputs": [],
   "source": [
    "g = sns.jointplot(\"normalized WAS\", \"intelligibility scores\", data=data_BGRU, kind=\"reg\", color='red', xlim=(0.0, 1.8), ylim=(0.0, 1.2), space=0)\n",
    "plt.subplots_adjust(top=0.9)\n",
    "g.fig.suptitle('BG foreign RU native')\n",
    "plt.savefig(prefix + '/120_jointplot_BGRU_nwas_intell.png', dpi=DPI)\n",
    "plt.savefig(prefix + '/120_jointplot_BGRU_nwas_intell.pdf', dpi=DPI)"
   ]
  },
  {
   "cell_type": "code",
   "execution_count": null,
   "metadata": {},
   "outputs": [],
   "source": [
    "g = sns.jointplot(\"normalized LD\", \"intelligibility scores\", data=data_RUBG, kind=\"reg\", color='blue', xlim=(0.0, 0.6), ylim=(0.0, 1.2), space=0)\n",
    "plt.subplots_adjust(top=0.9)\n",
    "g.fig.suptitle('RU foreign BG native')\n",
    "plt.savefig(prefix + '/120_jointplot_RUBG_nld_intell.png', dpi=DPI)\n",
    "plt.savefig(prefix + '/120_jointplot_RUBG_nld_intell.pdf', dpi=DPI)"
   ]
  },
  {
   "cell_type": "code",
   "execution_count": null,
   "metadata": {},
   "outputs": [],
   "source": [
    "g = sns.jointplot(\"normalized WAS\", \"intelligibility scores\", data=data_RUBG, kind=\"reg\", color='blue', xlim=(0.0, 1.8), ylim=(0.0, 1.2), space=0)\n",
    "plt.subplots_adjust(top=0.9)\n",
    "g.fig.suptitle('RU foreign BG native')\n",
    "plt.savefig(prefix + '/120_jointplot_RUBG_nwas_intell.png', dpi=DPI)\n",
    "plt.savefig(prefix + '/120_jointplot_RUBG_nwas_intell.pdf', dpi=DPI)"
   ]
  },
  {
   "cell_type": "markdown",
   "metadata": {},
   "source": [
    "## Additional Visualizations"
   ]
  },
  {
   "cell_type": "code",
   "execution_count": null,
   "metadata": {},
   "outputs": [],
   "source": [
    "# Create scatter plot of normalized LD, WAS and intelligibility scores\n",
    "fig, axes = plt.subplots(1, 1, figsize=(7, 6))\n",
    "cax = axes.scatter(data_BGRU['normalized LD'], data_BGRU['normalized WAS'], c=data_BGRU['intelligibility scores'], s=200, cmap='viridis_r', alpha=0.8)\n",
    "axes.set_title('Intelligibility score depending on normalized LD and normalized WAS')\n",
    "axes.set_xlabel(\"Normalized LD\")\n",
    "axes.set_ylabel(\"Normalized WAS\")\n",
    "axes.grid(alpha=0.3)\n",
    "cbar = fig.colorbar(cax)\n",
    "cbar.set_label('itelligibility score', rotation=270, labelpad=25)\n",
    "plt.savefig(prefix + '/120_scatter_BGRU_nld_nwas_intell.png', dpi=DPI)\n",
    "plt.savefig(prefix + '/120_scatter_BGRU_nld_nwas_intell.pdf', dpi=DPI)\n",
    "plt.tight_layout();"
   ]
  },
  {
   "cell_type": "code",
   "execution_count": null,
   "metadata": {},
   "outputs": [],
   "source": [
    "# Create scatter plot of normalized LD, WAS and intelligibility scores\n",
    "fig, axes = plt.subplots(1, 1, figsize=(7, 6))\n",
    "cax = axes.scatter(data_RUBG['normalized LD'], data_RUBG['normalized WAS'], c=data_RUBG['intelligibility scores'], s=200, cmap='viridis_r', alpha=0.8)\n",
    "axes.set_title('Intelligibility score depending on normalized LD and normalized WAS')\n",
    "axes.set_xlabel(\"Normalized LD\")\n",
    "axes.set_ylabel(\"Normalized WAS\")\n",
    "axes.grid(alpha=0.3)\n",
    "cbar = fig.colorbar(cax)\n",
    "cbar.set_label('itelligibility score', rotation=270, labelpad=25)\n",
    "plt.savefig(prefix + '/120_scatter_RUBG_nld_nwas_intell.png', dpi=DPI)\n",
    "plt.savefig(prefix + '/120_scatter_RUBG_nld_nwas_intell.pdf', dpi=DPI)\n",
    "plt.tight_layout();"
   ]
  },
  {
   "cell_type": "code",
   "execution_count": null,
   "metadata": {},
   "outputs": [],
   "source": [
    "char_entropy_BG = dfs['BG-char-entropy']\n",
    "char_entropy_BG = char_entropy_BG[char_entropy_BG['entropy (per character)'] != 0]\n",
    "char_entropy_BG = char_entropy_BG.sort_values(by='entropy (per character)')\n",
    "char_entropy_BG"
   ]
  },
  {
   "cell_type": "code",
   "execution_count": null,
   "metadata": {},
   "outputs": [],
   "source": [
    "BG_chars = list(char_entropy_BG.index)\n",
    "BG_chars[4] = 'ᴓ'\n",
    "print(BG_chars)"
   ]
  },
  {
   "cell_type": "code",
   "execution_count": null,
   "metadata": {},
   "outputs": [],
   "source": [
    "char_entropy_RU = dfs['RU-char-entropy']\n",
    "char_entropy_RU = char_entropy_RU[char_entropy_RU['entropy (per character)'] != 0]\n",
    "char_entropy_RU = char_entropy_RU.sort_values(by='entropy (per character)')\n",
    "char_entropy_RU"
   ]
  },
  {
   "cell_type": "code",
   "execution_count": null,
   "metadata": {},
   "outputs": [],
   "source": [
    "RU_chars = list(char_entropy_RU.index)\n",
    "print(RU_chars)"
   ]
  },
  {
   "cell_type": "code",
   "execution_count": null,
   "metadata": {},
   "outputs": [],
   "source": [
    "fig, axes = plt.subplots(1, 2, figsize=(12, 5), sharey=True)\n",
    "axes[1].bar(RU_chars, char_entropy_RU['entropy (per character)'])\n",
    "axes[1].set_ylim([0.0, 2.2])\n",
    "axes[0].set_ylabel('character entropy')\n",
    "axes[1].set_title('RU for BG readers')\n",
    "axes[0].bar(BG_chars, char_entropy_BG['entropy (per character)'], color='red')\n",
    "axes[0].set_title('BG for RU readers')\n",
    "#plt.xticks(fontsize=12, rotation=0)\n",
    "plt.savefig(prefix + '/120_char_entropy.png', dpi=DPI)\n",
    "plt.tight_layout();"
   ]
  },
  {
   "cell_type": "code",
   "execution_count": null,
   "metadata": {},
   "outputs": [],
   "source": []
  }
 ],
 "metadata": {
  "kernel_info": {
   "name": "c4incomslav"
  },
  "kernelspec": {
   "display_name": "Python 3",
   "language": "python",
   "name": "python3"
  },
  "language_info": {
   "codemirror_mode": {
    "name": "ipython",
    "version": 3
   },
   "file_extension": ".py",
   "mimetype": "text/x-python",
   "name": "python",
   "nbconvert_exporter": "python",
   "pygments_lexer": "ipython3",
   "version": "3.7.3"
  },
  "nteract": {
   "version": "0.11.6"
  }
 },
 "nbformat": 4,
 "nbformat_minor": 2
}
